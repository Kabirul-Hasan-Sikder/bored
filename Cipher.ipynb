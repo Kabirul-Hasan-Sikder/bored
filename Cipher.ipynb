{
  "nbformat": 4,
  "nbformat_minor": 0,
  "metadata": {
    "colab": {
      "name": "Cipher.ipynb",
      "provenance": [],
      "collapsed_sections": [],
      "authorship_tag": "ABX9TyMK7X/TEHTx8WrnVvVBpkSM",
      "include_colab_link": true
    },
    "kernelspec": {
      "name": "python3",
      "display_name": "Python 3"
    },
    "accelerator": "GPU"
  },
  "cells": [
    {
      "cell_type": "markdown",
      "metadata": {
        "id": "view-in-github",
        "colab_type": "text"
      },
      "source": [
        "<a href=\"https://colab.research.google.com/github/kabir-webDev/bored/blob/master/Cipher.ipynb\" target=\"_parent\"><img src=\"https://colab.research.google.com/assets/colab-badge.svg\" alt=\"Open In Colab\"/></a>"
      ]
    },
    {
      "cell_type": "code",
      "metadata": {
        "colab": {
          "base_uri": "https://localhost:8080/"
        },
        "id": "zfmM-StnivKa",
        "outputId": "cb2e0582-ac04-439a-c487-01b0bab2391e"
      },
      "source": [
        "def caesarCipher(message):\r\n",
        "  key = 28\r\n",
        "  encrypt = \"\"\r\n",
        "  for x in range (len(message)):\r\n",
        "    k = text[x]\r\n",
        "    encrypt += chr ((ord(k)+key-65) % 26 + 65)\r\n",
        "  return encrypt\r\n",
        "\r\n",
        "text = \"KABIR SAHEB\"\r\n",
        "print(\"The Plain Text : \"+text)\r\n",
        "print(\"Expected Cipher Text : \"+caesarCipher(text))"
      ],
      "execution_count": 14,
      "outputs": [
        {
          "output_type": "stream",
          "text": [
            "The Plain Text : KABIR SAHEB\n",
            "Expected Cipher Text : MCDKTVUCJGD\n"
          ],
          "name": "stdout"
        }
      ]
    }
  ]
}